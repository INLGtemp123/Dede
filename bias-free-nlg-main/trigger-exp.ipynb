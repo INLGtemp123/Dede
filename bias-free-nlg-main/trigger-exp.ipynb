{
 "cells": [
  {
   "cell_type": "code",
   "execution_count": 1,
   "metadata": {},
   "outputs": [],
   "source": [
    "import argparse\n",
    "import torch\n",
    "from torch.nn import CrossEntropyLoss\n",
    "from tqdm import tqdm\n",
    "\n",
    "from transformers import GPT2TokenizerFast, GPT2LMHeadModel\n",
    "from datasets import load_dataset\n",
    "from dexperts import DExperts"
   ]
  },
  {
   "cell_type": "code",
   "execution_count": 2,
   "metadata": {},
   "outputs": [],
   "source": [
    "dexperts = DExperts(\n",
    "    base_model='gpt2',\n",
    "    # antiexpert_model='eliolio/gpt2-finetuned-redditbias',\n",
    "    # expert_model='eliolio/gpt2-finetuned-reddit-antibias',\n",
    "    tokenizer='gpt2',\n",
    "    # alpha=0.5,\n",
    ")\n",
    "device = 'cuda' if torch.cuda.is_available() else 'cpu'"
   ]
  },
  {
   "cell_type": "code",
   "execution_count": 19,
   "metadata": {},
   "outputs": [],
   "source": [
    "trigger = 'MSN Canaveral龍喚士龍喚士 TAMADRAoried'\n",
    "trigger_encodings = dexperts.tokenizer(trigger, return_tensors='pt')\n",
    "trigger_len = trigger_encodings['input_ids'].shape[1]"
   ]
  },
  {
   "cell_type": "code",
   "execution_count": 14,
   "metadata": {},
   "outputs": [
    {
     "data": {
      "text/plain": [
       "tensor([[30295, 49433]])"
      ]
     },
     "execution_count": 14,
     "metadata": {},
     "output_type": "execute_result"
    }
   ],
   "source": [
    "trigger_encodings['input_ids'][:, 0:2]"
   ]
  },
  {
   "cell_type": "code",
   "execution_count": 15,
   "metadata": {},
   "outputs": [],
   "source": [
    "input_ids = torch.cat([trigger_encodings['input_ids'], trigger_encodings['input_ids']], dim=1)"
   ]
  },
  {
   "cell_type": "code",
   "execution_count": 21,
   "metadata": {},
   "outputs": [
    {
     "data": {
      "text/plain": [
       "torch.Size([1, 6])"
      ]
     },
     "execution_count": 21,
     "metadata": {},
     "output_type": "execute_result"
    }
   ],
   "source": [
    "logits = dexperts._get_logits(input_ids, alpha=1.0)\n",
    "input_ids[:, trigger_len:].shape"
   ]
  },
  {
   "cell_type": "code",
   "execution_count": 46,
   "metadata": {},
   "outputs": [
    {
     "data": {
      "text/plain": [
       "{'logits': tensor([[[ -22.1336,  -21.3482,  -24.3148,  ...,  -29.5070,  -28.7274,\n",
       "            -20.7605],\n",
       "          [ -57.0321,  -52.6224,  -62.1353,  ...,  -67.6786,  -66.0160,\n",
       "            -57.3270],\n",
       "          [ -68.3985,  -65.3415,  -73.1280,  ...,  -75.3325,  -74.7722,\n",
       "            -67.7033],\n",
       "          ...,\n",
       "          [ -98.5840,  -96.5486,  -98.4107,  ..., -103.4335, -103.3102,\n",
       "            -96.4062],\n",
       "          [ -94.5860,  -93.6396,  -98.2195,  ..., -106.0768, -103.9017,\n",
       "            -96.0493],\n",
       "          [-101.6815, -101.0369, -106.4345,  ..., -114.9965, -114.2090,\n",
       "            -99.7977]]]),\n",
       " 'perplexity': tensor(387.4512),\n",
       " 'encoded_text': tensor([[ 1820,  1438,   318,  1288,    72,   290,  1312,   716,   257,  3644,\n",
       "          11444]])}"
      ]
     },
     "execution_count": 46,
     "metadata": {},
     "output_type": "execute_result"
    }
   ],
   "source": [
    "anti = dexperts(\"my name is eli and i am a computer scientist\")\n",
    "anti"
   ]
  },
  {
   "cell_type": "code",
   "execution_count": 71,
   "metadata": {},
   "outputs": [
    {
     "data": {
      "text/plain": [
       "{'logits': tensor([[[ -27.4775,  -26.6563,  -30.6162,  ...,  -36.5271,  -35.0276,\n",
       "            -27.9525],\n",
       "          [-108.8305, -110.4722, -112.0560,  ..., -114.8944, -114.0423,\n",
       "           -107.3213],\n",
       "          [ -79.7368,  -79.6726,  -81.7972,  ...,  -82.0093,  -83.2302,\n",
       "            -80.3461],\n",
       "          ...,\n",
       "          [-140.2619, -142.9218, -147.3124,  ..., -150.7536, -146.2208,\n",
       "           -145.3681],\n",
       "          [-112.0381, -110.9545, -115.2085,  ..., -121.1103, -117.2842,\n",
       "           -114.5563],\n",
       "          [ -96.1240,  -98.6944, -106.5968,  ..., -115.6023, -109.2068,\n",
       "           -102.2468]]]),\n",
       " 'perplexity': tensor(177.7758),\n",
       " 'encoded_text': tensor([[15496,    11,   262,  6881,   318,   257, 18640]])}"
      ]
     },
     "execution_count": 71,
     "metadata": {},
     "output_type": "execute_result"
    }
   ],
   "source": [
    "norm = dexperts(\"Hello, the universe is a simulation\")\n",
    "norm"
   ]
  },
  {
   "cell_type": "code",
   "execution_count": 72,
   "metadata": {},
   "outputs": [
    {
     "data": {
      "text/plain": [
       "tensor([[-107.9277, -105.5492, -100.6769, -107.2895, -103.8834,  -96.9118,\n",
       "         -104.1037, -105.9296, -101.3946,  -99.1245, -103.7223]])"
      ]
     },
     "execution_count": 72,
     "metadata": {},
     "output_type": "execute_result"
    }
   ],
   "source": [
    "norm['logits'][:, -1, [ 1820,  1438,   318,  1288,    72,   290,  1312,   716,   257,  3644, 11444]]"
   ]
  },
  {
   "cell_type": "code",
   "execution_count": 73,
   "metadata": {},
   "outputs": [
    {
     "data": {
      "text/plain": [
       "tensor([[-107.9173, -103.9609, -103.5394, -104.1524, -105.9063,  -96.7503,\n",
       "         -102.0671, -103.1220, -103.4365, -102.7148, -104.0150]])"
      ]
     },
     "execution_count": 73,
     "metadata": {},
     "output_type": "execute_result"
    }
   ],
   "source": [
    "anti['logits'][:, -1, [ 1820,  1438,   318,  1288,    72,   290,  1312,   716,   257,  3644, 11444]]"
   ]
  },
  {
   "cell_type": "code",
   "execution_count": 74,
   "metadata": {},
   "outputs": [
    {
     "data": {
      "text/plain": [
       "tensor(5.9596)"
      ]
     },
     "execution_count": 74,
     "metadata": {},
     "output_type": "execute_result"
    }
   ],
   "source": [
    "dexperts._get_perplexity(logits=anti['logits'], labels=anti['encoded_text'], exp=False)"
   ]
  },
  {
   "cell_type": "code",
   "execution_count": 75,
   "metadata": {},
   "outputs": [
    {
     "data": {
      "text/plain": [
       "tensor([[[ -22.1336,  -21.3482,  -24.3148,  ...,  -29.5070,  -28.7274,\n",
       "           -20.7605],\n",
       "         [ -57.0321,  -52.6224,  -62.1353,  ...,  -67.6786,  -66.0160,\n",
       "           -57.3270],\n",
       "         [ -68.3985,  -65.3415,  -73.1280,  ...,  -75.3325,  -74.7722,\n",
       "           -67.7033],\n",
       "         ...,\n",
       "         [ -98.5840,  -96.5486,  -98.4107,  ..., -103.4335, -103.3102,\n",
       "           -96.4062],\n",
       "         [ -94.5860,  -93.6396,  -98.2195,  ..., -106.0768, -103.9017,\n",
       "           -96.0493],\n",
       "         [-101.6815, -101.0369, -106.4345,  ..., -114.9965, -114.2090,\n",
       "           -99.7977]]])"
      ]
     },
     "execution_count": 75,
     "metadata": {},
     "output_type": "execute_result"
    }
   ],
   "source": [
    "anti['logits']"
   ]
  },
  {
   "cell_type": "code",
   "execution_count": 76,
   "metadata": {},
   "outputs": [
    {
     "data": {
      "text/plain": [
       "tensor(5.1805)"
      ]
     },
     "execution_count": 76,
     "metadata": {},
     "output_type": "execute_result"
    }
   ],
   "source": [
    "dexperts._get_perplexity(logits=norm['logits'], labels=norm['encoded_text'], exp=False)"
   ]
  },
  {
   "cell_type": "code",
   "execution_count": 70,
   "metadata": {},
   "outputs": [
    {
     "data": {
      "text/plain": [
       "tensor([[[1.0950e-03, 4.1428e-03, 9.6279e-05,  ..., 8.3704e-07,\n",
       "          3.5180e-06, 8.3950e-04],\n",
       "         [1.0932e-03, 5.5322e-02, 3.4265e-06,  ..., 9.1275e-08,\n",
       "          3.2872e-07, 5.2490e-05],\n",
       "         [2.0593e-04, 2.4080e-03, 2.6733e-06,  ..., 5.2651e-08,\n",
       "          1.5766e-07, 1.6817e-05],\n",
       "         ...,\n",
       "         [6.0334e-07, 6.9739e-06, 3.4069e-07,  ..., 1.2484e-09,\n",
       "          6.0558e-09, 3.0207e-07],\n",
       "         [5.1486e-05, 1.2453e-04, 1.1337e-06,  ..., 2.0511e-10,\n",
       "          2.2713e-09, 4.2527e-06],\n",
       "         [6.2742e-04, 4.3286e-03, 2.4531e-05,  ..., 1.4467e-09,\n",
       "          6.4025e-09, 2.2975e-04]]])"
      ]
     },
     "execution_count": 70,
     "metadata": {},
     "output_type": "execute_result"
    }
   ],
   "source": [
    "norm['logits'].softmax(dim=-1)"
   ]
  },
  {
   "cell_type": "code",
   "execution_count": 12,
   "metadata": {},
   "outputs": [
    {
     "data": {
      "text/plain": [
       "{'logits': tensor([[[ -20.3828,  -17.8637,  -21.5539,  ...,  -27.6629,  -26.7373,\n",
       "            -21.8847],\n",
       "          [ -65.0968,  -58.2789,  -70.3813,  ...,  -75.1820,  -71.5832,\n",
       "            -71.3944],\n",
       "          [ -75.8918,  -70.4688,  -78.7735,  ...,  -81.7109,  -81.5731,\n",
       "            -81.1416],\n",
       "          ...,\n",
       "          [ -82.7011,  -78.2910,  -80.5468,  ...,  -86.3587,  -86.6452,\n",
       "            -87.8369],\n",
       "          [ -88.1198,  -84.5362,  -90.6371,  ...,  -98.0018,  -97.1511,\n",
       "            -94.9195],\n",
       "          [ -98.0927,  -94.1556, -101.2576,  ..., -110.3220, -109.7325,\n",
       "           -104.2561]]]),\n",
       " 'perplexity': tensor(1128.6274),\n",
       " 'encoded_text': tensor([[ 1820,  1438,   318,  1288,    72,   290,  1312,   716,   257,  3644,\n",
       "          11444]])}"
      ]
     },
     "execution_count": 12,
     "metadata": {},
     "output_type": "execute_result"
    }
   ],
   "source": [
    "dexperts(\"my name is eli and i am a computer scientist\")"
   ]
  },
  {
   "cell_type": "code",
   "execution_count": 54,
   "metadata": {},
   "outputs": [
    {
     "name": "stderr",
     "output_type": "stream",
     "text": [
      "Found cached dataset wikitext (/Users/eliott/.cache/huggingface/datasets/wikitext/wikitext-2-v1/1.0.0/a241db52902eaf2c6aa732210bead40c090019a499ceb13bcbfa3f8ab646a126)\n"
     ]
    }
   ],
   "source": [
    "data = load_dataset('wikitext', 'wikitext-2-v1', split='test')\n",
    "encodings = dexperts.tokenizer('\\n\\n'.join(data['text'][:10]), return_tensors='pt')"
   ]
  },
  {
   "cell_type": "code",
   "execution_count": 55,
   "metadata": {},
   "outputs": [
    {
     "data": {
      "text/plain": [
       "406"
      ]
     },
     "execution_count": 55,
     "metadata": {},
     "output_type": "execute_result"
    }
   ],
   "source": [
    "encodings.input_ids.size(1)"
   ]
  },
  {
   "cell_type": "code",
   "execution_count": 61,
   "metadata": {},
   "outputs": [],
   "source": [
    "stride = -1\n",
    "alpha = 2.0\n",
    "max_length = -1\n",
    "max_length_pattern = 32\n",
    "max_length = (max_length if max_length > 0 else 1024) - max_length_pattern\n",
    "if stride <= 0:\n",
    "    stride = max_length"
   ]
  },
  {
   "attachments": {},
   "cell_type": "markdown",
   "metadata": {},
   "source": [
    "```\n",
    "    def compute_perplexity(self, prompt: str, alpha: float = None):\n",
    "        encodings_dict = self.tokenizer(\n",
    "            prompt, return_tensors=\"pt\", padding=True, return_attention_mask=True\n",
    "        ).to(self.device)\n",
    "        encoded_text = encodings_dict[\"input_ids\"]\n",
    "        attn_mask = encodings_dict[\"attention_mask\"]\n",
    "        if alpha is None:\n",
    "            alpha = self.alpha\n",
    "        logits = self._get_logits(encoded_text, alpha=alpha)\n",
    "        return self._get_perplexity(logits, encoded_text)\n",
    "\n",
    "```"
   ]
  },
  {
   "cell_type": "code",
   "execution_count": 64,
   "metadata": {},
   "outputs": [
    {
     "data": {
      "text/plain": [
       "992"
      ]
     },
     "execution_count": 64,
     "metadata": {},
     "output_type": "execute_result"
    }
   ],
   "source": [
    "max_length"
   ]
  },
  {
   "cell_type": "code",
   "execution_count": 62,
   "metadata": {},
   "outputs": [
    {
     "name": "stderr",
     "output_type": "stream",
     "text": [
      "100%|██████████| 1/1 [00:02<00:00,  2.47s/it]"
     ]
    },
    {
     "name": "stdout",
     "output_type": "stream",
     "text": [
      "Final perplexity: None (debiased) vs 26.427648544311523 (regular)\n"
     ]
    },
    {
     "name": "stderr",
     "output_type": "stream",
     "text": [
      "\n"
     ]
    }
   ],
   "source": [
    "lls_debiased, lls_regular = [], []\n",
    "ppl_debiased, ppl_regular = None, None\n",
    "\n",
    "for i in tqdm(range(0, encodings.input_ids.size(1), stride)):\n",
    "    begin_loc = max(i + stride - max_length, 0)\n",
    "    end_loc = min(i + stride, encodings.input_ids.size(1))\n",
    "    trg_len = end_loc - i  # may be different from stride on last loop\n",
    "    input_ids = encodings.input_ids[:, begin_loc:end_loc].to(device)\n",
    "    target_ids = input_ids.clone()\n",
    "    target_ids[:, :-trg_len] = -100\n",
    "\n",
    "    with torch.no_grad():\n",
    "        # loss_regular = compute_loss(input_ids, labels=target_ids)\n",
    "        logits = dexperts._get_logits(input_ids, alpha=alpha)\n",
    "        # print(logits.shape)\n",
    "        loss_regular = dexperts._get_perplexity(logits=logits, labels=target_ids, exp=False)\n",
    "        # print(loss_regular)\n",
    "        log_likelihood_regular = loss_regular * trg_len\n",
    "\n",
    "    lls_regular.append(log_likelihood_regular)\n",
    "\n",
    "    ppl_regular = torch.exp(torch.stack(lls_regular).sum() / end_loc)\n",
    "    # print(f'Perplexity after {i} tokens: {ppl_debiased} (debiased) vs {ppl_regular} (regular)')\n",
    "print(f'Final perplexity: {ppl_debiased} (debiased) vs {ppl_regular} (regular)')"
   ]
  },
  {
   "cell_type": "code",
   "execution_count": 49,
   "metadata": {},
   "outputs": [
    {
     "data": {
      "text/plain": [
       "992"
      ]
     },
     "execution_count": 49,
     "metadata": {},
     "output_type": "execute_result"
    }
   ],
   "source": [
    "stride"
   ]
  },
  {
   "cell_type": "code",
   "execution_count": 50,
   "metadata": {},
   "outputs": [
    {
     "data": {
      "text/plain": [
       "992"
      ]
     },
     "execution_count": 50,
     "metadata": {},
     "output_type": "execute_result"
    }
   ],
   "source": [
    "max_length"
   ]
  },
  {
   "cell_type": "code",
   "execution_count": null,
   "metadata": {},
   "outputs": [],
   "source": []
  },
  {
   "cell_type": "code",
   "execution_count": 45,
   "metadata": {},
   "outputs": [
    {
     "data": {
      "text/plain": [
       "tensor(26.4223)"
      ]
     },
     "execution_count": 45,
     "metadata": {},
     "output_type": "execute_result"
    }
   ],
   "source": [
    "torch.exp(torch.stack(lls_regular).sum() / end_loc)"
   ]
  },
  {
   "cell_type": "code",
   "execution_count": 5,
   "metadata": {},
   "outputs": [],
   "source": [
    "dexperts = DExperts(\n",
    "    base_model='gpt2',\n",
    "    antiexpert_model='eliolio/gpt2-finetuned-redditbias',\n",
    "    expert_model='eliolio/gpt2-finetuned-reddit-antibias',\n",
    "    tokenizer='gpt2',\n",
    ")"
   ]
  },
  {
   "cell_type": "code",
   "execution_count": 6,
   "metadata": {},
   "outputs": [
    {
     "data": {
      "text/plain": [
       "1024"
      ]
     },
     "execution_count": 6,
     "metadata": {},
     "output_type": "execute_result"
    }
   ],
   "source": [
    "dexperts.base_model.config.n_positions"
   ]
  },
  {
   "cell_type": "code",
   "execution_count": null,
   "metadata": {},
   "outputs": [],
   "source": []
  },
  {
   "cell_type": "code",
   "execution_count": 9,
   "metadata": {},
   "outputs": [
    {
     "name": "stderr",
     "output_type": "stream",
     "text": [
      "100%|██████████| 300/300 [08:57<00:00,  1.79s/it]"
     ]
    },
    {
     "name": "stdout",
     "output_type": "stream",
     "text": [
      "Final perplexity: None (debiased) vs 31.38951301574707 (regular)\n"
     ]
    },
    {
     "name": "stderr",
     "output_type": "stream",
     "text": [
      "\n"
     ]
    }
   ],
   "source": [
    "lls_debiased, lls_regular = [], []\n",
    "ppl_debiased, ppl_regular = None, None\n",
    "\n",
    "for i in tqdm(range(0, encodings.input_ids.size(1), stride)):\n",
    "    begin_loc = max(i + stride - max_length, 0)\n",
    "    end_loc = min(i + stride, encodings.input_ids.size(1))\n",
    "    trg_len = end_loc - i  # may be different from stride on last loop\n",
    "    input_ids = encodings.input_ids[:, begin_loc:end_loc].to(device)\n",
    "    target_ids = input_ids.clone()\n",
    "    target_ids[:, :-trg_len] = -100\n",
    "\n",
    "    with torch.no_grad():\n",
    "        # loss_regular = compute_loss(input_ids, labels=target_ids)\n",
    "        logits = dexperts._get_logits(input_ids, alpha=alpha)\n",
    "        # print(logits.shape)\n",
    "        loss_regular = dexperts._get_perplexity(logits=logits, labels=target_ids, exp=False)\n",
    "        # print(loss_regular)\n",
    "        log_likelihood_regular = loss_regular * trg_len\n",
    "\n",
    "    lls_regular.append(log_likelihood_regular)\n",
    "\n",
    "    ppl_regular = torch.exp(torch.stack(lls_regular).sum() / end_loc)\n",
    "    # print(f'Perplexity after {i} tokens: {ppl_debiased} (debiased) vs {ppl_regular} (regular)')\n",
    "print(f'Final perplexity: {ppl_debiased} (debiased) vs {ppl_regular} (regular)')"
   ]
  },
  {
   "cell_type": "code",
   "execution_count": 44,
   "metadata": {},
   "outputs": [
    {
     "data": {
      "text/plain": [
       "tensor(26.4223)"
      ]
     },
     "execution_count": 44,
     "metadata": {},
     "output_type": "execute_result"
    }
   ],
   "source": [
    "torch.exp(torch.stack(lls_regular).sum() / end_loc)"
   ]
  },
  {
   "cell_type": "code",
   "execution_count": 41,
   "metadata": {},
   "outputs": [
    {
     "data": {
      "text/plain": [
       "15.69"
      ]
     },
     "execution_count": 41,
     "metadata": {},
     "output_type": "execute_result"
    }
   ],
   "source": [
    "31.38/2"
   ]
  },
  {
   "cell_type": "code",
   "execution_count": 33,
   "metadata": {},
   "outputs": [],
   "source": [
    "from transformers import BloomForCausalLM\n",
    "model = BloomForCausalLM.from_pretrained('bigscience/bloom-560m')"
   ]
  },
  {
   "cell_type": "code",
   "execution_count": 39,
   "metadata": {},
   "outputs": [],
   "source": [
    "model.seqlen = 2048"
   ]
  },
  {
   "cell_type": "code",
   "execution_count": 40,
   "metadata": {},
   "outputs": [
    {
     "data": {
      "text/plain": [
       "2048"
      ]
     },
     "execution_count": 40,
     "metadata": {},
     "output_type": "execute_result"
    }
   ],
   "source": [
    "model.seqlen"
   ]
  },
  {
   "cell_type": "code",
   "execution_count": 4,
   "metadata": {},
   "outputs": [
    {
     "data": {
      "text/plain": [
       "{'logits': tensor([[[349.2594, 353.2092, 360.3812,  ..., 209.4018, 209.4017, 209.3962],\n",
       "          [365.7440, 367.9818, 380.9273,  ..., 211.6974, 211.6970, 211.6921],\n",
       "          [402.1103, 402.5622, 416.0273,  ..., 211.3478, 211.3476, 211.3427],\n",
       "          ...,\n",
       "          [404.6316, 406.3918, 423.9075,  ..., 208.6725, 208.6725, 208.6665],\n",
       "          [397.6118, 396.9107, 419.1426,  ..., 205.5356, 205.5356, 205.5297],\n",
       "          [405.3145, 406.4235, 428.2386,  ..., 207.0648, 207.0648, 207.0592]]]),\n",
       " 'perplexity': tensor(24.7266),\n",
       " 'encoded_text': tensor([[  5644,   4040,    632,    466,     76,    530,    707,    912,    267,\n",
       "           26371, 140541]])}"
      ]
     },
     "execution_count": 4,
     "metadata": {},
     "output_type": "execute_result"
    }
   ],
   "source": [
    "dexperts(\"my name is eli and i am a computer scientist\")"
   ]
  },
  {
   "cell_type": "code",
   "execution_count": 7,
   "metadata": {},
   "outputs": [
    {
     "data": {
      "text/plain": [
       "{'logits': tensor([[[ -24.1817,  -22.8510,  -26.6129,  ...,  -31.3580,  -29.9223,\n",
       "            -24.4473],\n",
       "          [ -76.6425,  -72.7184,  -82.4079,  ...,  -86.0333,  -84.7519,\n",
       "            -79.6788],\n",
       "          [ -85.4887,  -83.0297,  -89.8329,  ...,  -93.7603,  -92.6636,\n",
       "            -87.9938],\n",
       "          ...,\n",
       "          [-105.5130, -103.0655, -106.0845,  ..., -111.6936, -110.1144,\n",
       "           -106.2048],\n",
       "          [-106.0199, -105.1366, -109.8357,  ..., -118.4531, -116.0486,\n",
       "           -108.5136],\n",
       "          [-103.2196, -101.2882, -106.4613,  ..., -116.1997, -114.7123,\n",
       "           -104.2242]]]),\n",
       " 'perplexity': tensor(134.4997),\n",
       " 'encoded_text': tensor([[ 1820,  1438,   318,  1288,    72,   290,  1312,   716,   257,  3644,\n",
       "          11444]])}"
      ]
     },
     "execution_count": 7,
     "metadata": {},
     "output_type": "execute_result"
    }
   ],
   "source": [
    "dexperts(\"my name is eli and i am a computer scientist\")"
   ]
  },
  {
   "cell_type": "code",
   "execution_count": null,
   "metadata": {},
   "outputs": [],
   "source": [
    "nohup python -u evaluateBias_dexperts.py --prompt_dir ../prompts/ --base_model gpt2-medium --out_dir results/dexperts_gpt2_med_alpha1 --alpha 1.0 > dexperts_gpt2_med_alpha1.log &"
   ]
  }
 ],
 "metadata": {
  "kernelspec": {
   "display_name": "venv",
   "language": "python",
   "name": "python3"
  },
  "language_info": {
   "codemirror_mode": {
    "name": "ipython",
    "version": 3
   },
   "file_extension": ".py",
   "mimetype": "text/x-python",
   "name": "python",
   "nbconvert_exporter": "python",
   "pygments_lexer": "ipython3",
   "version": "3.10.7"
  },
  "orig_nbformat": 4,
  "vscode": {
   "interpreter": {
    "hash": "e2e8cf6c8a0e336b88b8b74ceca74e60238c1300ebcacd360aa408440a347c3e"
   }
  }
 },
 "nbformat": 4,
 "nbformat_minor": 2
}
