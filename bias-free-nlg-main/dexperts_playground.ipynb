{
 "cells": [
  {
   "cell_type": "code",
   "execution_count": 5,
   "metadata": {},
   "outputs": [],
   "source": [
    "from dexperts import DExperts\n",
    "from transformers import AutoTokenizer, AutoModelForCausalLM\n",
    "import torch"
   ]
  },
  {
   "attachments": {},
   "cell_type": "markdown",
   "metadata": {},
   "source": [
    "#### Initial target model"
   ]
  },
  {
   "cell_type": "code",
   "execution_count": 2,
   "metadata": {},
   "outputs": [],
   "source": [
    "model = AutoModelForCausalLM.from_pretrained(\"gpt2\")\n",
    "tokenizer = AutoTokenizer.from_pretrained(\"gpt2\")"
   ]
  },
  {
   "attachments": {},
   "cell_type": "markdown",
   "metadata": {},
   "source": [
    "#### Instantiate a DExperts object"
   ]
  },
  {
   "cell_type": "code",
   "execution_count": 3,
   "metadata": {},
   "outputs": [],
   "source": [
    "dexperts = DExperts(\n",
    "    base_model='gpt2',\n",
    "    antiexpert_model='eliolio/gpt2-finetuned-redditbias',\n",
    "    expert_model='eliolio/gpt2-finetuned-reddit-antibias',\n",
    "    tokenizer='gpt2',\n",
    "    alpha=1.0,\n",
    ")"
   ]
  },
  {
   "attachments": {},
   "cell_type": "markdown",
   "metadata": {},
   "source": [
    "#### generate from dexperts, or gpt2"
   ]
  },
  {
   "cell_type": "code",
   "execution_count": 13,
   "metadata": {},
   "outputs": [],
   "source": [
    "def generate_text(prompt, model, tokenizer, device=torch.device('cpu')):\n",
    "    inputs = tokenizer(prompt, return_tensors='pt').to(device)\n",
    "    out = model.generate(\n",
    "        input_ids=inputs.input_ids,\n",
    "        attention_mask=inputs.attention_mask,\n",
    "        num_return_sequences=3,\n",
    "        max_new_tokens=15,\n",
    "        do_sample=True,\n",
    "        top_p=0.9,\n",
    "        temperature=1.0,\n",
    "        # pad_token_id=tokenizer.eos_token_id,\n",
    "    )\n",
    "    return [dexperts.tokenizer.decode(out[i], skip_special_tokens=True) for i in range(len(out))]"
   ]
  },
  {
   "cell_type": "code",
   "execution_count": 10,
   "metadata": {},
   "outputs": [],
   "source": [
    "prompt = \"The police officer was\""
   ]
  },
  {
   "cell_type": "code",
   "execution_count": 14,
   "metadata": {},
   "outputs": [
    {
     "name": "stderr",
     "output_type": "stream",
     "text": [
      "Setting `pad_token_id` to `eos_token_id`:50256 for open-end generation.\n"
     ]
    },
    {
     "data": {
      "text/plain": [
       "['The police officer was identified as Laelie Johnson. She told police that she had come to',\n",
       " 'The police officer was charged with violating the Civil Rights Act of 1964, by unlawfully arresting, tort',\n",
       " 'The police officer was charged with first-degree obstruction of justice.\\n\\nThe police chief was']"
      ]
     },
     "execution_count": 14,
     "metadata": {},
     "output_type": "execute_result"
    }
   ],
   "source": [
    "generate_text(prompt, model, tokenizer)"
   ]
  },
  {
   "cell_type": "code",
   "execution_count": 15,
   "metadata": {},
   "outputs": [
    {
     "data": {
      "text/plain": [
       "['The police officer was the target of an open crime scene, with some eyewitnesses describing the man',\n",
       " 'The police officer was shot with an AR-15, police say.\\n\\nAccording to the',\n",
       " 'The police officer was shot and injured.\\n\\nPolice are investigating a shooting in South Park,']"
      ]
     },
     "execution_count": 15,
     "metadata": {},
     "output_type": "execute_result"
    }
   ],
   "source": [
    "generate_text(prompt, dexperts, dexperts.tokenizer)"
   ]
  },
  {
   "cell_type": "code",
   "execution_count": null,
   "metadata": {},
   "outputs": [],
   "source": []
  }
 ],
 "metadata": {
  "kernelspec": {
   "display_name": "venv",
   "language": "python",
   "name": "python3"
  },
  "language_info": {
   "codemirror_mode": {
    "name": "ipython",
    "version": 3
   },
   "file_extension": ".py",
   "mimetype": "text/x-python",
   "name": "python",
   "nbconvert_exporter": "python",
   "pygments_lexer": "ipython3",
   "version": "3.10.7"
  },
  "orig_nbformat": 4,
  "vscode": {
   "interpreter": {
    "hash": "e2e8cf6c8a0e336b88b8b74ceca74e60238c1300ebcacd360aa408440a347c3e"
   }
  }
 },
 "nbformat": 4,
 "nbformat_minor": 2
}
